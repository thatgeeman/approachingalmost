{
 "cells": [
  {
   "cell_type": "markdown",
   "metadata": {},
   "source": [
    "## Statified k-fold for a regression problem (validation)"
   ]
  },
  {
   "cell_type": "markdown",
   "metadata": {},
   "source": [
    "Divide target into bins and then use the normal skfold. No of bins depends on the no of samples available (Sturge's Rule)."
   ]
  },
  {
   "cell_type": "code",
   "execution_count": 1,
   "metadata": {},
   "outputs": [],
   "source": [
    "import numpy as np\n",
    "import matplotlib.pyplot as plt\n",
    "def sturge(N):\n",
    "    return 1+np.log2(N)"
   ]
  },
  {
   "cell_type": "code",
   "execution_count": 2,
   "metadata": {},
   "outputs": [
    {
     "data": {
      "text/plain": [
       "[<matplotlib.lines.Line2D at 0x7f6d26a7e9d0>]"
      ]
     },
     "execution_count": 2,
     "metadata": {},
     "output_type": "execute_result"
    },
    {
     "data": {
      "image/png": "[encoded data removed]",
      "text/plain": [
       "<Figure size 432x288 with 1 Axes>"
      ]
     },
     "metadata": {
      "needs_background": "light"
     },
     "output_type": "display_data"
    }
   ],
   "source": [
    "samples=list(range(1,100000))\n",
    "plt.xlabel('samples')\n",
    "plt.ylabel('bins')\n",
    "plt.plot(samples,sturge(samples))"
   ]
  },
  {
   "cell_type": "markdown",
   "metadata": {},
   "source": [
    "## Generate data and apply stratified k-fold for regression problem"
   ]
  },
  {
   "cell_type": "code",
   "execution_count": 3,
   "metadata": {},
   "outputs": [],
   "source": [
    "import numpy as np\n",
    "import matplotlib.pyplot as plt\n",
    "import pandas as pd\n",
    "from sklearn import model_selection\n",
    "from sklearn import datasets"
   ]
  },
  {
   "cell_type": "code",
   "execution_count": 4,
   "metadata": {},
   "outputs": [
    {
     "data": {
      "text/plain": [
       "(array([[ 0.2731799 ,  0.14836123,  0.75009067, ...,  0.0960706 ,\n",
       "         -0.99204047, -0.70567268],\n",
       "        [ 0.44980238, -2.02324817, -0.75215175, ...,  0.90042619,\n",
       "         -0.26064439,  0.41845134],\n",
       "        [ 1.21856785,  1.15153662,  1.50573353, ..., -0.0218321 ,\n",
       "          0.58187303,  0.97787595],\n",
       "        ...,\n",
       "        [ 0.48862722, -0.72338954,  1.59648228, ..., -0.60721722,\n",
       "         -0.06980026, -0.35972024],\n",
       "        [ 0.85401855, -0.60872995, -0.00742905, ...,  0.1737908 ,\n",
       "          0.05489073,  0.84307188],\n",
       "        [-0.23333024,  0.2963102 , -1.18314404, ...,  0.55995892,\n",
       "         -0.49029791,  0.26997149]]),\n",
       " array([  34.03176757,   61.24905096, -198.51467155, ...,   28.08650065,\n",
       "        -107.35625225,  -99.1391131 ]))"
      ]
     },
     "execution_count": 4,
     "metadata": {},
     "output_type": "execute_result"
    }
   ],
   "source": [
    "datasets.make_regression(n_samples=15000, n_features=100, n_targets=1)"
   ]
  },
  {
   "cell_type": "markdown",
   "metadata": {},
   "source": [
    "Create data set with one target for the regression problem"
   ]
  },
  {
   "cell_type": "code",
   "execution_count": 5,
   "metadata": {},
   "outputs": [],
   "source": [
    "X,y=datasets.make_regression(n_samples=15000, n_features=100, n_targets=1)"
   ]
  },
  {
   "cell_type": "code",
   "execution_count": 6,
   "metadata": {},
   "outputs": [],
   "source": [
    "data=pd.DataFrame(X,columns=['f_{}'.format(i) for i in range(0,X.shape[1])])"
   ]
  },
  {
   "cell_type": "code",
   "execution_count": 7,
   "metadata": {},
   "outputs": [
    {
     "data": {
      "text/html": [
       "<div>\n",
       "<style scoped>\n",
       "    .dataframe tbody tr th:only-of-type {\n",
       "        vertical-align: middle;\n",
       "    }\n",
       "\n",
       "    .dataframe tbody tr th {\n",
       "        vertical-align: top;\n",
       "    }\n",
       "\n",
       "    .dataframe thead th {\n",
       "        text-align: right;\n",
       "    }\n",
       "</style>\n",
       "<table border=\"1\" class=\"dataframe\">\n",
       "  <thead>\n",
       "    <tr style=\"text-align: right;\">\n",
       "      <th></th>\n",
       "      <th>f_0</th>\n",
       "      <th>f_1</th>\n",
       "      <th>f_2</th>\n",
       "      <th>f_3</th>\n",
       "      <th>f_4</th>\n",
       "      <th>f_5</th>\n",
       "      <th>f_6</th>\n",
       "      <th>f_7</th>\n",
       "      <th>f_8</th>\n",
       "      <th>f_9</th>\n",
       "      <th>...</th>\n",
       "      <th>f_90</th>\n",
       "      <th>f_91</th>\n",
       "      <th>f_92</th>\n",
       "      <th>f_93</th>\n",
       "      <th>f_94</th>\n",
       "      <th>f_95</th>\n",
       "      <th>f_96</th>\n",
       "      <th>f_97</th>\n",
       "      <th>f_98</th>\n",
       "      <th>f_99</th>\n",
       "    </tr>\n",
       "  </thead>\n",
       "  <tbody>\n",
       "    <tr>\n",
       "      <th>0</th>\n",
       "      <td>0.913141</td>\n",
       "      <td>1.380277</td>\n",
       "      <td>0.527357</td>\n",
       "      <td>-0.149046</td>\n",
       "      <td>-1.803627</td>\n",
       "      <td>0.470918</td>\n",
       "      <td>-1.119628</td>\n",
       "      <td>-0.735247</td>\n",
       "      <td>-1.277487</td>\n",
       "      <td>1.550019</td>\n",
       "      <td>...</td>\n",
       "      <td>0.819540</td>\n",
       "      <td>-1.567432</td>\n",
       "      <td>0.023127</td>\n",
       "      <td>1.077846</td>\n",
       "      <td>0.232681</td>\n",
       "      <td>0.133454</td>\n",
       "      <td>0.473734</td>\n",
       "      <td>-0.205363</td>\n",
       "      <td>-0.907598</td>\n",
       "      <td>-1.178783</td>\n",
       "    </tr>\n",
       "    <tr>\n",
       "      <th>1</th>\n",
       "      <td>0.179390</td>\n",
       "      <td>0.262944</td>\n",
       "      <td>1.510719</td>\n",
       "      <td>0.795390</td>\n",
       "      <td>0.703975</td>\n",
       "      <td>1.524085</td>\n",
       "      <td>-0.402881</td>\n",
       "      <td>0.180281</td>\n",
       "      <td>0.343596</td>\n",
       "      <td>0.203212</td>\n",
       "      <td>...</td>\n",
       "      <td>0.513557</td>\n",
       "      <td>-0.282707</td>\n",
       "      <td>1.376219</td>\n",
       "      <td>0.225215</td>\n",
       "      <td>0.736842</td>\n",
       "      <td>-0.274703</td>\n",
       "      <td>-0.886081</td>\n",
       "      <td>0.714162</td>\n",
       "      <td>-0.867129</td>\n",
       "      <td>0.050726</td>\n",
       "    </tr>\n",
       "    <tr>\n",
       "      <th>2</th>\n",
       "      <td>0.696693</td>\n",
       "      <td>-2.075168</td>\n",
       "      <td>-0.952338</td>\n",
       "      <td>-0.605773</td>\n",
       "      <td>-0.590337</td>\n",
       "      <td>0.821426</td>\n",
       "      <td>0.215457</td>\n",
       "      <td>-1.512798</td>\n",
       "      <td>0.314414</td>\n",
       "      <td>1.268503</td>\n",
       "      <td>...</td>\n",
       "      <td>0.863084</td>\n",
       "      <td>-0.569460</td>\n",
       "      <td>1.547074</td>\n",
       "      <td>-1.452647</td>\n",
       "      <td>1.609232</td>\n",
       "      <td>0.091589</td>\n",
       "      <td>1.218136</td>\n",
       "      <td>-0.583283</td>\n",
       "      <td>2.474200</td>\n",
       "      <td>-0.285408</td>\n",
       "    </tr>\n",
       "    <tr>\n",
       "      <th>3</th>\n",
       "      <td>0.322551</td>\n",
       "      <td>-0.885295</td>\n",
       "      <td>0.890547</td>\n",
       "      <td>0.034671</td>\n",
       "      <td>0.598507</td>\n",
       "      <td>-0.649949</td>\n",
       "      <td>1.070074</td>\n",
       "      <td>0.180052</td>\n",
       "      <td>-0.326639</td>\n",
       "      <td>-0.339676</td>\n",
       "      <td>...</td>\n",
       "      <td>0.198241</td>\n",
       "      <td>-0.045285</td>\n",
       "      <td>1.820389</td>\n",
       "      <td>0.367988</td>\n",
       "      <td>-0.135248</td>\n",
       "      <td>-0.692751</td>\n",
       "      <td>-0.019645</td>\n",
       "      <td>-0.897752</td>\n",
       "      <td>0.370438</td>\n",
       "      <td>-2.226322</td>\n",
       "    </tr>\n",
       "    <tr>\n",
       "      <th>4</th>\n",
       "      <td>2.374336</td>\n",
       "      <td>0.699540</td>\n",
       "      <td>0.755697</td>\n",
       "      <td>0.245787</td>\n",
       "      <td>0.086996</td>\n",
       "      <td>0.121952</td>\n",
       "      <td>0.766690</td>\n",
       "      <td>0.292039</td>\n",
       "      <td>0.082557</td>\n",
       "      <td>-1.563832</td>\n",
       "      <td>...</td>\n",
       "      <td>-0.014453</td>\n",
       "      <td>1.210717</td>\n",
       "      <td>-1.065146</td>\n",
       "      <td>-0.580388</td>\n",
       "      <td>1.382137</td>\n",
       "      <td>0.959917</td>\n",
       "      <td>-0.892955</td>\n",
       "      <td>0.194906</td>\n",
       "      <td>0.400080</td>\n",
       "      <td>0.547597</td>\n",
       "    </tr>\n",
       "  </tbody>\n",
       "</table>\n",
       "<p>5 rows × 100 columns</p>\n",
       "</div>"
      ],
      "text/plain": [
       "        f_0       f_1       f_2       f_3       f_4       f_5       f_6  \\\n",
       "0  0.913141  1.380277  0.527357 -0.149046 -1.803627  0.470918 -1.119628   \n",
       "1  0.179390  0.262944  1.510719  0.795390  0.703975  1.524085 -0.402881   \n",
       "2  0.696693 -2.075168 -0.952338 -0.605773 -0.590337  0.821426  0.215457   \n",
       "3  0.322551 -0.885295  0.890547  0.034671  0.598507 -0.649949  1.070074   \n",
       "4  2.374336  0.699540  0.755697  0.245787  0.086996  0.121952  0.766690   \n",
       "\n",
       "        f_7       f_8       f_9  ...      f_90      f_91      f_92      f_93  \\\n",
       "0 -0.735247 -1.277487  1.550019  ...  0.819540 -1.567432  0.023127  1.077846   \n",
       "1  0.180281  0.343596  0.203212  ...  0.513557 -0.282707  1.376219  0.225215   \n",
       "2 -1.512798  0.314414  1.268503  ...  0.863084 -0.569460  1.547074 -1.452647   \n",
       "3  0.180052 -0.326639 -0.339676  ...  0.198241 -0.045285  1.820389  0.367988   \n",
       "4  0.292039  0.082557 -1.563832  ... -0.014453  1.210717 -1.065146 -0.580388   \n",
       "\n",
       "       f_94      f_95      f_96      f_97      f_98      f_99  \n",
       "0  0.232681  0.133454  0.473734 -0.205363 -0.907598 -1.178783  \n",
       "1  0.736842 -0.274703 -0.886081  0.714162 -0.867129  0.050726  \n",
       "2  1.609232  0.091589  1.218136 -0.583283  2.474200 -0.285408  \n",
       "3 -0.135248 -0.692751 -0.019645 -0.897752  0.370438 -2.226322  \n",
       "4  1.382137  0.959917 -0.892955  0.194906  0.400080  0.547597  \n",
       "\n",
       "[5 rows x 100 columns]"
      ]
     },
     "execution_count": 7,
     "metadata": {},
     "output_type": "execute_result"
    }
   ],
   "source": [
    "data.head()"
   ]
  },
  {
   "cell_type": "code",
   "execution_count": 8,
   "metadata": {},
   "outputs": [],
   "source": [
    "data[\"target\"]=y"
   ]
  },
  {
   "cell_type": "markdown",
   "metadata": {},
   "source": [
    "## Create folds on the dataset"
   ]
  },
  {
   "cell_type": "code",
   "execution_count": 9,
   "metadata": {},
   "outputs": [],
   "source": [
    "data[\"kfold\"]=-1"
   ]
  },
  {
   "cell_type": "markdown",
   "metadata": {},
   "source": [
    "randomize data and reset index"
   ]
  },
  {
   "cell_type": "code",
   "execution_count": 10,
   "metadata": {},
   "outputs": [],
   "source": [
    "data = data.sample(frac=1).reset_index(drop=True)"
   ]
  },
  {
   "cell_type": "code",
   "execution_count": 11,
   "metadata": {},
   "outputs": [
    {
     "data": {
      "text/html": [
       "<div>\n",
       "<style scoped>\n",
       "    .dataframe tbody tr th:only-of-type {\n",
       "        vertical-align: middle;\n",
       "    }\n",
       "\n",
       "    .dataframe tbody tr th {\n",
       "        vertical-align: top;\n",
       "    }\n",
       "\n",
       "    .dataframe thead th {\n",
       "        text-align: right;\n",
       "    }\n",
       "</style>\n",
       "<table border=\"1\" class=\"dataframe\">\n",
       "  <thead>\n",
       "    <tr style=\"text-align: right;\">\n",
       "      <th></th>\n",
       "      <th>f_0</th>\n",
       "      <th>f_1</th>\n",
       "      <th>f_2</th>\n",
       "      <th>f_3</th>\n",
       "      <th>f_4</th>\n",
       "      <th>f_5</th>\n",
       "      <th>f_6</th>\n",
       "      <th>f_7</th>\n",
       "      <th>f_8</th>\n",
       "      <th>f_9</th>\n",
       "      <th>...</th>\n",
       "      <th>f_92</th>\n",
       "      <th>f_93</th>\n",
       "      <th>f_94</th>\n",
       "      <th>f_95</th>\n",
       "      <th>f_96</th>\n",
       "      <th>f_97</th>\n",
       "      <th>f_98</th>\n",
       "      <th>f_99</th>\n",
       "      <th>target</th>\n",
       "      <th>kfold</th>\n",
       "    </tr>\n",
       "  </thead>\n",
       "  <tbody>\n",
       "    <tr>\n",
       "      <th>0</th>\n",
       "      <td>0.769234</td>\n",
       "      <td>-0.244046</td>\n",
       "      <td>-1.590393</td>\n",
       "      <td>-2.292147</td>\n",
       "      <td>1.681914</td>\n",
       "      <td>0.290996</td>\n",
       "      <td>0.084189</td>\n",
       "      <td>-2.016179</td>\n",
       "      <td>-0.750992</td>\n",
       "      <td>0.792489</td>\n",
       "      <td>...</td>\n",
       "      <td>-0.688516</td>\n",
       "      <td>0.668982</td>\n",
       "      <td>-1.095699</td>\n",
       "      <td>-0.347695</td>\n",
       "      <td>1.006526</td>\n",
       "      <td>0.069819</td>\n",
       "      <td>0.609207</td>\n",
       "      <td>-0.317122</td>\n",
       "      <td>-66.091356</td>\n",
       "      <td>-1</td>\n",
       "    </tr>\n",
       "    <tr>\n",
       "      <th>1</th>\n",
       "      <td>1.169465</td>\n",
       "      <td>-1.100541</td>\n",
       "      <td>-1.855820</td>\n",
       "      <td>-0.754314</td>\n",
       "      <td>0.192293</td>\n",
       "      <td>1.521091</td>\n",
       "      <td>-0.877960</td>\n",
       "      <td>1.131765</td>\n",
       "      <td>1.248682</td>\n",
       "      <td>-0.560425</td>\n",
       "      <td>...</td>\n",
       "      <td>-1.795440</td>\n",
       "      <td>0.838492</td>\n",
       "      <td>0.623165</td>\n",
       "      <td>-0.425823</td>\n",
       "      <td>-0.326344</td>\n",
       "      <td>-1.691703</td>\n",
       "      <td>-0.124784</td>\n",
       "      <td>1.332448</td>\n",
       "      <td>-222.315415</td>\n",
       "      <td>-1</td>\n",
       "    </tr>\n",
       "    <tr>\n",
       "      <th>2</th>\n",
       "      <td>0.674569</td>\n",
       "      <td>-0.685005</td>\n",
       "      <td>-1.506512</td>\n",
       "      <td>0.025108</td>\n",
       "      <td>0.420549</td>\n",
       "      <td>-0.233528</td>\n",
       "      <td>0.546361</td>\n",
       "      <td>0.380339</td>\n",
       "      <td>0.219094</td>\n",
       "      <td>-0.996460</td>\n",
       "      <td>...</td>\n",
       "      <td>1.545397</td>\n",
       "      <td>-0.952457</td>\n",
       "      <td>-0.795745</td>\n",
       "      <td>-0.030682</td>\n",
       "      <td>-1.054945</td>\n",
       "      <td>0.613974</td>\n",
       "      <td>1.197873</td>\n",
       "      <td>-0.196871</td>\n",
       "      <td>-21.357552</td>\n",
       "      <td>-1</td>\n",
       "    </tr>\n",
       "    <tr>\n",
       "      <th>3</th>\n",
       "      <td>0.033930</td>\n",
       "      <td>0.830177</td>\n",
       "      <td>-1.265541</td>\n",
       "      <td>-0.539031</td>\n",
       "      <td>-0.739091</td>\n",
       "      <td>0.534068</td>\n",
       "      <td>-0.562451</td>\n",
       "      <td>0.518239</td>\n",
       "      <td>-0.744118</td>\n",
       "      <td>0.063253</td>\n",
       "      <td>...</td>\n",
       "      <td>-1.138759</td>\n",
       "      <td>0.517208</td>\n",
       "      <td>1.304665</td>\n",
       "      <td>1.129249</td>\n",
       "      <td>0.144438</td>\n",
       "      <td>-1.303662</td>\n",
       "      <td>-0.249150</td>\n",
       "      <td>-0.504269</td>\n",
       "      <td>-82.297632</td>\n",
       "      <td>-1</td>\n",
       "    </tr>\n",
       "    <tr>\n",
       "      <th>4</th>\n",
       "      <td>-1.076596</td>\n",
       "      <td>-0.147441</td>\n",
       "      <td>2.730232</td>\n",
       "      <td>2.624043</td>\n",
       "      <td>1.039724</td>\n",
       "      <td>2.062431</td>\n",
       "      <td>-0.264853</td>\n",
       "      <td>-0.121299</td>\n",
       "      <td>0.204186</td>\n",
       "      <td>1.141624</td>\n",
       "      <td>...</td>\n",
       "      <td>-1.310986</td>\n",
       "      <td>0.765554</td>\n",
       "      <td>0.998226</td>\n",
       "      <td>0.589090</td>\n",
       "      <td>-1.109611</td>\n",
       "      <td>1.196104</td>\n",
       "      <td>0.322977</td>\n",
       "      <td>-0.516448</td>\n",
       "      <td>-112.005672</td>\n",
       "      <td>-1</td>\n",
       "    </tr>\n",
       "  </tbody>\n",
       "</table>\n",
       "<p>5 rows × 102 columns</p>\n",
       "</div>"
      ],
      "text/plain": [
       "        f_0       f_1       f_2       f_3       f_4       f_5       f_6  \\\n",
       "0  0.769234 -0.244046 -1.590393 -2.292147  1.681914  0.290996  0.084189   \n",
       "1  1.169465 -1.100541 -1.855820 -0.754314  0.192293  1.521091 -0.877960   \n",
       "2  0.674569 -0.685005 -1.506512  0.025108  0.420549 -0.233528  0.546361   \n",
       "3  0.033930  0.830177 -1.265541 -0.539031 -0.739091  0.534068 -0.562451   \n",
       "4 -1.076596 -0.147441  2.730232  2.624043  1.039724  2.062431 -0.264853   \n",
       "\n",
       "        f_7       f_8       f_9  ...      f_92      f_93      f_94      f_95  \\\n",
       "0 -2.016179 -0.750992  0.792489  ... -0.688516  0.668982 -1.095699 -0.347695   \n",
       "1  1.131765  1.248682 -0.560425  ... -1.795440  0.838492  0.623165 -0.425823   \n",
       "2  0.380339  0.219094 -0.996460  ...  1.545397 -0.952457 -0.795745 -0.030682   \n",
       "3  0.518239 -0.744118  0.063253  ... -1.138759  0.517208  1.304665  1.129249   \n",
       "4 -0.121299  0.204186  1.141624  ... -1.310986  0.765554  0.998226  0.589090   \n",
       "\n",
       "       f_96      f_97      f_98      f_99      target  kfold  \n",
       "0  1.006526  0.069819  0.609207 -0.317122  -66.091356     -1  \n",
       "1 -0.326344 -1.691703 -0.124784  1.332448 -222.315415     -1  \n",
       "2 -1.054945  0.613974  1.197873 -0.196871  -21.357552     -1  \n",
       "3  0.144438 -1.303662 -0.249150 -0.504269  -82.297632     -1  \n",
       "4 -1.109611  1.196104  0.322977 -0.516448 -112.005672     -1  \n",
       "\n",
       "[5 rows x 102 columns]"
      ]
     },
     "execution_count": 11,
     "metadata": {},
     "output_type": "execute_result"
    }
   ],
   "source": [
    "data.head()"
   ]
  },
  {
   "cell_type": "code",
   "execution_count": 12,
   "metadata": {},
   "outputs": [
    {
     "data": {
      "text/plain": [
       "15"
      ]
     },
     "execution_count": 12,
     "metadata": {},
     "output_type": "execute_result"
    }
   ],
   "source": [
    "nbins=np.round(sturge(y.size)).astype(int)\n",
    "nbins"
   ]
  },
  {
   "cell_type": "markdown",
   "metadata": {},
   "source": [
    "Bin targets into separate bins"
   ]
  },
  {
   "cell_type": "code",
   "execution_count": 13,
   "metadata": {},
   "outputs": [],
   "source": [
    "data[\"bins\"] = pd.cut(data.target,bins=nbins,labels=False)"
   ]
  },
  {
   "cell_type": "code",
   "execution_count": 14,
   "metadata": {},
   "outputs": [
    {
     "data": {
      "text/plain": [
       "0         6\n",
       "1         5\n",
       "2         7\n",
       "3         6\n",
       "4         6\n",
       "         ..\n",
       "14995     6\n",
       "14996     9\n",
       "14997    12\n",
       "14998     5\n",
       "14999     8\n",
       "Name: bins, Length: 15000, dtype: int64"
      ]
     },
     "execution_count": 14,
     "metadata": {},
     "output_type": "execute_result"
    }
   ],
   "source": [
    "data.bins"
   ]
  },
  {
   "cell_type": "markdown",
   "metadata": {},
   "source": [
    "Now based on the bin number, split into kfolds"
   ]
  },
  {
   "cell_type": "code",
   "execution_count": 15,
   "metadata": {},
   "outputs": [],
   "source": [
    "nfolds=5\n",
    "kf=model_selection.StratifiedKFold(n_splits=nfolds)"
   ]
  },
  {
   "cell_type": "code",
   "execution_count": 16,
   "metadata": {},
   "outputs": [
    {
     "data": {
      "text/plain": [
       "generator"
      ]
     },
     "execution_count": 16,
     "metadata": {},
     "output_type": "execute_result"
    }
   ],
   "source": [
    "type(kf.split(data,y=data.bins))"
   ]
  },
  {
   "cell_type": "code",
   "execution_count": 17,
   "metadata": {},
   "outputs": [
    {
     "name": "stderr",
     "output_type": "stream",
     "text": [
      "/home/gg/anaconda3/envs/aamlp/lib/python3.7/site-packages/sklearn/model_selection/_split.py:672: UserWarning: The least populated class in y has only 4 members, which is less than n_splits=5.\n",
      "  % (min_groups, self.n_splits)), UserWarning)\n"
     ]
    },
    {
     "data": {
      "text/plain": [
       "(array([    0,     1,     2, ..., 14997, 14998, 14999]),\n",
       " array([ 8460,  8578,  8629, ..., 12397, 12654, 13028]))"
      ]
     },
     "execution_count": 17,
     "metadata": {},
     "output_type": "execute_result"
    }
   ],
   "source": [
    "list(kf.split(data,y=data.bins))[3]"
   ]
  },
  {
   "cell_type": "code",
   "execution_count": 18,
   "metadata": {},
   "outputs": [
    {
     "name": "stderr",
     "output_type": "stream",
     "text": [
      "/home/gg/anaconda3/envs/aamlp/lib/python3.7/site-packages/sklearn/model_selection/_split.py:672: UserWarning: The least populated class in y has only 4 members, which is less than n_splits=5.\n",
      "  % (min_groups, self.n_splits)), UserWarning)\n"
     ]
    },
    {
     "data": {
      "text/plain": [
       "5"
      ]
     },
     "execution_count": 18,
     "metadata": {},
     "output_type": "execute_result"
    }
   ],
   "source": [
    "len(list(kf.split(data,y=data.bins)))"
   ]
  },
  {
   "cell_type": "markdown",
   "metadata": {},
   "source": [
    "Has the `old_idx` and `new_idx`. Make new row with fold number as additional column using the `bins` value."
   ]
  },
  {
   "cell_type": "code",
   "execution_count": 19,
   "metadata": {},
   "outputs": [
    {
     "name": "stderr",
     "output_type": "stream",
     "text": [
      "/home/gg/anaconda3/envs/aamlp/lib/python3.7/site-packages/sklearn/model_selection/_split.py:672: UserWarning: The least populated class in y has only 4 members, which is less than n_splits=5.\n",
      "  % (min_groups, self.n_splits)), UserWarning)\n"
     ]
    }
   ],
   "source": [
    "for fold_num, (old_idx,new_idx) in enumerate(kf.split(data,y=data.bins)):\n",
    "    data.loc[new_idx,'kfold'] = fold_num"
   ]
  },
  {
   "cell_type": "code",
   "execution_count": 20,
   "metadata": {},
   "outputs": [],
   "source": [
    "data = data.drop(\"bins\", axis=1)"
   ]
  },
  {
   "cell_type": "code",
   "execution_count": 21,
   "metadata": {},
   "outputs": [
    {
     "data": {
      "text/html": [
       "<div>\n",
       "<style scoped>\n",
       "    .dataframe tbody tr th:only-of-type {\n",
       "        vertical-align: middle;\n",
       "    }\n",
       "\n",
       "    .dataframe tbody tr th {\n",
       "        vertical-align: top;\n",
       "    }\n",
       "\n",
       "    .dataframe thead th {\n",
       "        text-align: right;\n",
       "    }\n",
       "</style>\n",
       "<table border=\"1\" class=\"dataframe\">\n",
       "  <thead>\n",
       "    <tr style=\"text-align: right;\">\n",
       "      <th></th>\n",
       "      <th>f_0</th>\n",
       "      <th>f_1</th>\n",
       "      <th>f_2</th>\n",
       "      <th>f_3</th>\n",
       "      <th>f_4</th>\n",
       "      <th>f_5</th>\n",
       "      <th>f_6</th>\n",
       "      <th>f_7</th>\n",
       "      <th>f_8</th>\n",
       "      <th>f_9</th>\n",
       "      <th>...</th>\n",
       "      <th>f_92</th>\n",
       "      <th>f_93</th>\n",
       "      <th>f_94</th>\n",
       "      <th>f_95</th>\n",
       "      <th>f_96</th>\n",
       "      <th>f_97</th>\n",
       "      <th>f_98</th>\n",
       "      <th>f_99</th>\n",
       "      <th>target</th>\n",
       "      <th>kfold</th>\n",
       "    </tr>\n",
       "  </thead>\n",
       "  <tbody>\n",
       "    <tr>\n",
       "      <th>4661</th>\n",
       "      <td>-0.074249</td>\n",
       "      <td>-0.028214</td>\n",
       "      <td>0.440647</td>\n",
       "      <td>1.237029</td>\n",
       "      <td>-0.554191</td>\n",
       "      <td>-0.831485</td>\n",
       "      <td>-0.757824</td>\n",
       "      <td>-0.000989</td>\n",
       "      <td>1.213722</td>\n",
       "      <td>0.302098</td>\n",
       "      <td>...</td>\n",
       "      <td>0.288006</td>\n",
       "      <td>0.209911</td>\n",
       "      <td>0.467591</td>\n",
       "      <td>0.217440</td>\n",
       "      <td>0.382533</td>\n",
       "      <td>1.498248</td>\n",
       "      <td>0.385507</td>\n",
       "      <td>0.918614</td>\n",
       "      <td>-513.137008</td>\n",
       "      <td>2</td>\n",
       "    </tr>\n",
       "    <tr>\n",
       "      <th>4724</th>\n",
       "      <td>-0.486889</td>\n",
       "      <td>-1.399545</td>\n",
       "      <td>2.433936</td>\n",
       "      <td>-0.270327</td>\n",
       "      <td>-0.987948</td>\n",
       "      <td>0.121950</td>\n",
       "      <td>-0.310972</td>\n",
       "      <td>0.311284</td>\n",
       "      <td>0.162247</td>\n",
       "      <td>1.250942</td>\n",
       "      <td>...</td>\n",
       "      <td>-0.486630</td>\n",
       "      <td>-0.304905</td>\n",
       "      <td>1.690199</td>\n",
       "      <td>0.297174</td>\n",
       "      <td>-0.530908</td>\n",
       "      <td>1.853784</td>\n",
       "      <td>0.720971</td>\n",
       "      <td>1.725709</td>\n",
       "      <td>-506.288443</td>\n",
       "      <td>2</td>\n",
       "    </tr>\n",
       "    <tr>\n",
       "      <th>4905</th>\n",
       "      <td>0.954553</td>\n",
       "      <td>-0.054878</td>\n",
       "      <td>0.771915</td>\n",
       "      <td>0.823128</td>\n",
       "      <td>-0.021288</td>\n",
       "      <td>0.200662</td>\n",
       "      <td>-0.274431</td>\n",
       "      <td>0.522220</td>\n",
       "      <td>0.385368</td>\n",
       "      <td>0.153003</td>\n",
       "      <td>...</td>\n",
       "      <td>-0.813277</td>\n",
       "      <td>-0.070158</td>\n",
       "      <td>-1.851532</td>\n",
       "      <td>-0.567963</td>\n",
       "      <td>-1.591273</td>\n",
       "      <td>1.460897</td>\n",
       "      <td>-1.054700</td>\n",
       "      <td>-0.099158</td>\n",
       "      <td>-539.882228</td>\n",
       "      <td>2</td>\n",
       "    </tr>\n",
       "    <tr>\n",
       "      <th>4930</th>\n",
       "      <td>0.448722</td>\n",
       "      <td>0.561287</td>\n",
       "      <td>0.545033</td>\n",
       "      <td>1.280492</td>\n",
       "      <td>-0.637685</td>\n",
       "      <td>-0.070092</td>\n",
       "      <td>0.320545</td>\n",
       "      <td>-0.424020</td>\n",
       "      <td>0.365530</td>\n",
       "      <td>-0.861835</td>\n",
       "      <td>...</td>\n",
       "      <td>0.398091</td>\n",
       "      <td>-0.912044</td>\n",
       "      <td>1.190447</td>\n",
       "      <td>-1.409670</td>\n",
       "      <td>-0.058840</td>\n",
       "      <td>0.729851</td>\n",
       "      <td>-1.637215</td>\n",
       "      <td>-0.935737</td>\n",
       "      <td>-521.421179</td>\n",
       "      <td>2</td>\n",
       "    </tr>\n",
       "    <tr>\n",
       "      <th>4932</th>\n",
       "      <td>0.792407</td>\n",
       "      <td>0.443214</td>\n",
       "      <td>1.528251</td>\n",
       "      <td>0.000813</td>\n",
       "      <td>1.235400</td>\n",
       "      <td>-0.326109</td>\n",
       "      <td>-0.937656</td>\n",
       "      <td>1.841479</td>\n",
       "      <td>0.677391</td>\n",
       "      <td>-0.166555</td>\n",
       "      <td>...</td>\n",
       "      <td>-0.823836</td>\n",
       "      <td>-0.486858</td>\n",
       "      <td>1.517941</td>\n",
       "      <td>0.423589</td>\n",
       "      <td>0.964440</td>\n",
       "      <td>-0.549520</td>\n",
       "      <td>0.044235</td>\n",
       "      <td>0.408502</td>\n",
       "      <td>-559.268243</td>\n",
       "      <td>2</td>\n",
       "    </tr>\n",
       "    <tr>\n",
       "      <th>...</th>\n",
       "      <td>...</td>\n",
       "      <td>...</td>\n",
       "      <td>...</td>\n",
       "      <td>...</td>\n",
       "      <td>...</td>\n",
       "      <td>...</td>\n",
       "      <td>...</td>\n",
       "      <td>...</td>\n",
       "      <td>...</td>\n",
       "      <td>...</td>\n",
       "      <td>...</td>\n",
       "      <td>...</td>\n",
       "      <td>...</td>\n",
       "      <td>...</td>\n",
       "      <td>...</td>\n",
       "      <td>...</td>\n",
       "      <td>...</td>\n",
       "      <td>...</td>\n",
       "      <td>...</td>\n",
       "      <td>...</td>\n",
       "      <td>...</td>\n",
       "    </tr>\n",
       "    <tr>\n",
       "      <th>9187</th>\n",
       "      <td>0.732628</td>\n",
       "      <td>-1.574773</td>\n",
       "      <td>-0.674361</td>\n",
       "      <td>-0.654344</td>\n",
       "      <td>-0.197741</td>\n",
       "      <td>-1.909199</td>\n",
       "      <td>0.174166</td>\n",
       "      <td>0.565531</td>\n",
       "      <td>0.267554</td>\n",
       "      <td>1.173043</td>\n",
       "      <td>...</td>\n",
       "      <td>2.001744</td>\n",
       "      <td>1.510717</td>\n",
       "      <td>-0.595099</td>\n",
       "      <td>-0.117336</td>\n",
       "      <td>0.861368</td>\n",
       "      <td>-0.018503</td>\n",
       "      <td>1.280989</td>\n",
       "      <td>-0.316243</td>\n",
       "      <td>138.325034</td>\n",
       "      <td>2</td>\n",
       "    </tr>\n",
       "    <tr>\n",
       "      <th>9235</th>\n",
       "      <td>1.557197</td>\n",
       "      <td>0.226424</td>\n",
       "      <td>-0.043811</td>\n",
       "      <td>0.779245</td>\n",
       "      <td>0.258536</td>\n",
       "      <td>-0.048176</td>\n",
       "      <td>-0.813248</td>\n",
       "      <td>-0.739360</td>\n",
       "      <td>-0.119117</td>\n",
       "      <td>1.230270</td>\n",
       "      <td>...</td>\n",
       "      <td>0.996881</td>\n",
       "      <td>-1.222243</td>\n",
       "      <td>-0.213716</td>\n",
       "      <td>-1.515089</td>\n",
       "      <td>0.399987</td>\n",
       "      <td>-0.524435</td>\n",
       "      <td>-0.341241</td>\n",
       "      <td>-1.630611</td>\n",
       "      <td>570.928860</td>\n",
       "      <td>2</td>\n",
       "    </tr>\n",
       "    <tr>\n",
       "      <th>9252</th>\n",
       "      <td>-0.813971</td>\n",
       "      <td>1.727266</td>\n",
       "      <td>-0.407907</td>\n",
       "      <td>2.085999</td>\n",
       "      <td>-0.180448</td>\n",
       "      <td>-0.284472</td>\n",
       "      <td>1.055081</td>\n",
       "      <td>0.431774</td>\n",
       "      <td>0.146008</td>\n",
       "      <td>-1.157539</td>\n",
       "      <td>...</td>\n",
       "      <td>1.007876</td>\n",
       "      <td>0.396411</td>\n",
       "      <td>-0.607046</td>\n",
       "      <td>-0.620718</td>\n",
       "      <td>-0.833069</td>\n",
       "      <td>1.038938</td>\n",
       "      <td>-1.838441</td>\n",
       "      <td>-0.149036</td>\n",
       "      <td>505.475506</td>\n",
       "      <td>2</td>\n",
       "    </tr>\n",
       "    <tr>\n",
       "      <th>9434</th>\n",
       "      <td>-1.481777</td>\n",
       "      <td>0.503342</td>\n",
       "      <td>1.708353</td>\n",
       "      <td>-2.379256</td>\n",
       "      <td>2.215633</td>\n",
       "      <td>-0.536150</td>\n",
       "      <td>0.544401</td>\n",
       "      <td>2.405715</td>\n",
       "      <td>-0.822516</td>\n",
       "      <td>1.433590</td>\n",
       "      <td>...</td>\n",
       "      <td>1.396536</td>\n",
       "      <td>0.905182</td>\n",
       "      <td>1.521118</td>\n",
       "      <td>-1.634835</td>\n",
       "      <td>-0.342589</td>\n",
       "      <td>0.627045</td>\n",
       "      <td>0.035966</td>\n",
       "      <td>-0.146777</td>\n",
       "      <td>567.676188</td>\n",
       "      <td>2</td>\n",
       "    </tr>\n",
       "    <tr>\n",
       "      <th>10009</th>\n",
       "      <td>-1.172354</td>\n",
       "      <td>-0.797402</td>\n",
       "      <td>0.065676</td>\n",
       "      <td>-0.173112</td>\n",
       "      <td>1.654882</td>\n",
       "      <td>-0.931603</td>\n",
       "      <td>1.607781</td>\n",
       "      <td>0.125425</td>\n",
       "      <td>0.283744</td>\n",
       "      <td>0.083287</td>\n",
       "      <td>...</td>\n",
       "      <td>1.241673</td>\n",
       "      <td>-0.378885</td>\n",
       "      <td>-0.857580</td>\n",
       "      <td>-1.616758</td>\n",
       "      <td>0.844638</td>\n",
       "      <td>0.780063</td>\n",
       "      <td>0.909396</td>\n",
       "      <td>1.579272</td>\n",
       "      <td>559.892970</td>\n",
       "      <td>2</td>\n",
       "    </tr>\n",
       "  </tbody>\n",
       "</table>\n",
       "<p>3000 rows × 102 columns</p>\n",
       "</div>"
      ],
      "text/plain": [
       "            f_0       f_1       f_2       f_3       f_4       f_5       f_6  \\\n",
       "4661  -0.074249 -0.028214  0.440647  1.237029 -0.554191 -0.831485 -0.757824   \n",
       "4724  -0.486889 -1.399545  2.433936 -0.270327 -0.987948  0.121950 -0.310972   \n",
       "4905   0.954553 -0.054878  0.771915  0.823128 -0.021288  0.200662 -0.274431   \n",
       "4930   0.448722  0.561287  0.545033  1.280492 -0.637685 -0.070092  0.320545   \n",
       "4932   0.792407  0.443214  1.528251  0.000813  1.235400 -0.326109 -0.937656   \n",
       "...         ...       ...       ...       ...       ...       ...       ...   \n",
       "9187   0.732628 -1.574773 -0.674361 -0.654344 -0.197741 -1.909199  0.174166   \n",
       "9235   1.557197  0.226424 -0.043811  0.779245  0.258536 -0.048176 -0.813248   \n",
       "9252  -0.813971  1.727266 -0.407907  2.085999 -0.180448 -0.284472  1.055081   \n",
       "9434  -1.481777  0.503342  1.708353 -2.379256  2.215633 -0.536150  0.544401   \n",
       "10009 -1.172354 -0.797402  0.065676 -0.173112  1.654882 -0.931603  1.607781   \n",
       "\n",
       "            f_7       f_8       f_9  ...      f_92      f_93      f_94  \\\n",
       "4661  -0.000989  1.213722  0.302098  ...  0.288006  0.209911  0.467591   \n",
       "4724   0.311284  0.162247  1.250942  ... -0.486630 -0.304905  1.690199   \n",
       "4905   0.522220  0.385368  0.153003  ... -0.813277 -0.070158 -1.851532   \n",
       "4930  -0.424020  0.365530 -0.861835  ...  0.398091 -0.912044  1.190447   \n",
       "4932   1.841479  0.677391 -0.166555  ... -0.823836 -0.486858  1.517941   \n",
       "...         ...       ...       ...  ...       ...       ...       ...   \n",
       "9187   0.565531  0.267554  1.173043  ...  2.001744  1.510717 -0.595099   \n",
       "9235  -0.739360 -0.119117  1.230270  ...  0.996881 -1.222243 -0.213716   \n",
       "9252   0.431774  0.146008 -1.157539  ...  1.007876  0.396411 -0.607046   \n",
       "9434   2.405715 -0.822516  1.433590  ...  1.396536  0.905182  1.521118   \n",
       "10009  0.125425  0.283744  0.083287  ...  1.241673 -0.378885 -0.857580   \n",
       "\n",
       "           f_95      f_96      f_97      f_98      f_99      target  kfold  \n",
       "4661   0.217440  0.382533  1.498248  0.385507  0.918614 -513.137008      2  \n",
       "4724   0.297174 -0.530908  1.853784  0.720971  1.725709 -506.288443      2  \n",
       "4905  -0.567963 -1.591273  1.460897 -1.054700 -0.099158 -539.882228      2  \n",
       "4930  -1.409670 -0.058840  0.729851 -1.637215 -0.935737 -521.421179      2  \n",
       "4932   0.423589  0.964440 -0.549520  0.044235  0.408502 -559.268243      2  \n",
       "...         ...       ...       ...       ...       ...         ...    ...  \n",
       "9187  -0.117336  0.861368 -0.018503  1.280989 -0.316243  138.325034      2  \n",
       "9235  -1.515089  0.399987 -0.524435 -0.341241 -1.630611  570.928860      2  \n",
       "9252  -0.620718 -0.833069  1.038938 -1.838441 -0.149036  505.475506      2  \n",
       "9434  -1.634835 -0.342589  0.627045  0.035966 -0.146777  567.676188      2  \n",
       "10009 -1.616758  0.844638  0.780063  0.909396  1.579272  559.892970      2  \n",
       "\n",
       "[3000 rows x 102 columns]"
      ]
     },
     "execution_count": 21,
     "metadata": {},
     "output_type": "execute_result"
    }
   ],
   "source": [
    "data[data.kfold==2]"
   ]
  },
  {
   "cell_type": "markdown",
   "metadata": {},
   "source": [
    "## Define as a function"
   ]
  },
  {
   "cell_type": "code",
   "execution_count": 22,
   "metadata": {},
   "outputs": [],
   "source": [
    "data=pd.DataFrame(X,columns=['f_{}'.format(i) for i in range(0,X.shape[1])])\n",
    "data[\"target\"]=y"
   ]
  },
  {
   "cell_type": "code",
   "execution_count": 23,
   "metadata": {},
   "outputs": [],
   "source": [
    "def sturge(N):\n",
    "    return 1+np.log2(N)"
   ]
  },
  {
   "cell_type": "code",
   "execution_count": 24,
   "metadata": {},
   "outputs": [],
   "source": [
    "def create_fold(data,nfolds=5,target_col=\"target\",kfold_col=\"kfold\"):\n",
    "    # randomize data\n",
    "    data = data.sample(frac=1).reset_index(drop=True)\n",
    "    # find required bins based on target\n",
    "    nbins=np.round(sturge(y.size)).astype(int)\n",
    "    data[\"bins\"] = pd.cut(data[target_col],bins=nbins,labels=False)\n",
    "    # make folds based on bins\n",
    "    data[\"kfold\"]=-1\n",
    "    kf=model_selection.StratifiedKFold(n_splits=nfolds)\n",
    "    for fold_num, (old_idx,new_idx) in enumerate(kf.split(data,y=data.bins)):\n",
    "        data.loc[new_idx,kfold_col] = fold_num\n",
    "    data = data.drop(\"bins\", axis=1)\n",
    "    return data"
   ]
  },
  {
   "cell_type": "code",
   "execution_count": 25,
   "metadata": {},
   "outputs": [
    {
     "name": "stderr",
     "output_type": "stream",
     "text": [
      "/home/gg/anaconda3/envs/aamlp/lib/python3.7/site-packages/sklearn/model_selection/_split.py:672: UserWarning: The least populated class in y has only 4 members, which is less than n_splits=5.\n",
      "  % (min_groups, self.n_splits)), UserWarning)\n"
     ]
    }
   ],
   "source": [
    "data=create_fold(data,nfolds=5,target_col=\"target\",kfold_col=\"kfold\")"
   ]
  },
  {
   "cell_type": "markdown",
   "metadata": {},
   "source": [
    "### Check if this fold has the no skewed distribution of target variables"
   ]
  },
  {
   "cell_type": "code",
   "execution_count": 26,
   "metadata": {},
   "outputs": [
    {
     "data": {
      "image/png": "[encoded data removed]",
      "text/plain": [
       "<Figure size 432x288 with 1 Axes>"
      ]
     },
     "metadata": {
      "needs_background": "light"
     },
     "output_type": "display_data"
    }
   ],
   "source": [
    "for fold in range(0,nfolds):\n",
    "    plt.hist(data[data.kfold==fold].target)"
   ]
  },
  {
   "cell_type": "markdown",
   "metadata": {},
   "source": [
    "This does not have the `target` uniformly distributed among each folds. Some classes have less than 10 members."
   ]
  },
  {
   "cell_type": "markdown",
   "metadata": {},
   "source": [
    "## Cross validation and model fitting with linear regression"
   ]
  },
  {
   "cell_type": "code",
   "execution_count": 27,
   "metadata": {},
   "outputs": [],
   "source": [
    "from sklearn import model_selection"
   ]
  },
  {
   "cell_type": "code",
   "execution_count": 28,
   "metadata": {},
   "outputs": [],
   "source": [
    "from sklearn import linear_model,metrics"
   ]
  },
  {
   "cell_type": "code",
   "execution_count": 29,
   "metadata": {},
   "outputs": [],
   "source": [
    "cols=list(data.columns[:-2])"
   ]
  },
  {
   "cell_type": "code",
   "execution_count": 30,
   "metadata": {},
   "outputs": [
    {
     "data": {
      "text/plain": [
       "['f_90',\n",
       " 'f_91',\n",
       " 'f_92',\n",
       " 'f_93',\n",
       " 'f_94',\n",
       " 'f_95',\n",
       " 'f_96',\n",
       " 'f_97',\n",
       " 'f_98',\n",
       " 'f_99']"
      ]
     },
     "execution_count": 30,
     "metadata": {},
     "output_type": "execute_result"
    }
   ],
   "source": [
    "cols[-10:]"
   ]
  },
  {
   "cell_type": "code",
   "execution_count": 45,
   "metadata": {},
   "outputs": [],
   "source": [
    "fold=0\n",
    "train_data=data[data.kfold!=fold].copy().reset_index(drop=True)\n",
    "test_data=data[data.kfold==fold].copy().reset_index(drop=True)"
   ]
  },
  {
   "cell_type": "code",
   "execution_count": 46,
   "metadata": {},
   "outputs": [],
   "source": [
    "lm = linear_model.LinearRegression()\n",
    "reg=lm.fit(train_data[cols],train_data.target)"
   ]
  },
  {
   "cell_type": "code",
   "execution_count": 47,
   "metadata": {},
   "outputs": [],
   "source": [
    "train_predictions=reg.predict(train_data[cols])\n",
    "test_predictions=reg.predict(test_data[cols])"
   ]
  },
  {
   "cell_type": "code",
   "execution_count": 48,
   "metadata": {},
   "outputs": [
    {
     "data": {
      "text/html": [
       "<div>\n",
       "<style scoped>\n",
       "    .dataframe tbody tr th:only-of-type {\n",
       "        vertical-align: middle;\n",
       "    }\n",
       "\n",
       "    .dataframe tbody tr th {\n",
       "        vertical-align: top;\n",
       "    }\n",
       "\n",
       "    .dataframe thead th {\n",
       "        text-align: right;\n",
       "    }\n",
       "</style>\n",
       "<table border=\"1\" class=\"dataframe\">\n",
       "  <thead>\n",
       "    <tr style=\"text-align: right;\">\n",
       "      <th></th>\n",
       "      <th>Actual</th>\n",
       "      <th>Predicted</th>\n",
       "    </tr>\n",
       "  </thead>\n",
       "  <tbody>\n",
       "    <tr>\n",
       "      <th>0</th>\n",
       "      <td>-686.884647</td>\n",
       "      <td>-686.884647</td>\n",
       "    </tr>\n",
       "    <tr>\n",
       "      <th>1</th>\n",
       "      <td>566.030476</td>\n",
       "      <td>566.030476</td>\n",
       "    </tr>\n",
       "    <tr>\n",
       "      <th>2</th>\n",
       "      <td>643.261385</td>\n",
       "      <td>643.261385</td>\n",
       "    </tr>\n",
       "    <tr>\n",
       "      <th>3</th>\n",
       "      <td>582.133327</td>\n",
       "      <td>582.133327</td>\n",
       "    </tr>\n",
       "    <tr>\n",
       "      <th>4</th>\n",
       "      <td>685.160010</td>\n",
       "      <td>685.160010</td>\n",
       "    </tr>\n",
       "    <tr>\n",
       "      <th>...</th>\n",
       "      <td>...</td>\n",
       "      <td>...</td>\n",
       "    </tr>\n",
       "    <tr>\n",
       "      <th>11995</th>\n",
       "      <td>290.208678</td>\n",
       "      <td>290.208678</td>\n",
       "    </tr>\n",
       "    <tr>\n",
       "      <th>11996</th>\n",
       "      <td>-234.417624</td>\n",
       "      <td>-234.417624</td>\n",
       "    </tr>\n",
       "    <tr>\n",
       "      <th>11997</th>\n",
       "      <td>-326.035831</td>\n",
       "      <td>-326.035831</td>\n",
       "    </tr>\n",
       "    <tr>\n",
       "      <th>11998</th>\n",
       "      <td>97.790632</td>\n",
       "      <td>97.790632</td>\n",
       "    </tr>\n",
       "    <tr>\n",
       "      <th>11999</th>\n",
       "      <td>142.767460</td>\n",
       "      <td>142.767460</td>\n",
       "    </tr>\n",
       "  </tbody>\n",
       "</table>\n",
       "<p>12000 rows × 2 columns</p>\n",
       "</div>"
      ],
      "text/plain": [
       "           Actual   Predicted\n",
       "0     -686.884647 -686.884647\n",
       "1      566.030476  566.030476\n",
       "2      643.261385  643.261385\n",
       "3      582.133327  582.133327\n",
       "4      685.160010  685.160010\n",
       "...           ...         ...\n",
       "11995  290.208678  290.208678\n",
       "11996 -234.417624 -234.417624\n",
       "11997 -326.035831 -326.035831\n",
       "11998   97.790632   97.790632\n",
       "11999  142.767460  142.767460\n",
       "\n",
       "[12000 rows x 2 columns]"
      ]
     },
     "execution_count": 48,
     "metadata": {},
     "output_type": "execute_result"
    }
   ],
   "source": [
    "pd.DataFrame({'Actual': train_data.target, 'Predicted': train_predictions})"
   ]
  },
  {
   "cell_type": "code",
   "execution_count": 49,
   "metadata": {},
   "outputs": [
    {
     "data": {
      "text/html": [
       "<div>\n",
       "<style scoped>\n",
       "    .dataframe tbody tr th:only-of-type {\n",
       "        vertical-align: middle;\n",
       "    }\n",
       "\n",
       "    .dataframe tbody tr th {\n",
       "        vertical-align: top;\n",
       "    }\n",
       "\n",
       "    .dataframe thead th {\n",
       "        text-align: right;\n",
       "    }\n",
       "</style>\n",
       "<table border=\"1\" class=\"dataframe\">\n",
       "  <thead>\n",
       "    <tr style=\"text-align: right;\">\n",
       "      <th></th>\n",
       "      <th>Actual</th>\n",
       "      <th>Predicted</th>\n",
       "    </tr>\n",
       "  </thead>\n",
       "  <tbody>\n",
       "    <tr>\n",
       "      <th>0</th>\n",
       "      <td>-159.738253</td>\n",
       "      <td>-159.738253</td>\n",
       "    </tr>\n",
       "    <tr>\n",
       "      <th>1</th>\n",
       "      <td>113.324462</td>\n",
       "      <td>113.324462</td>\n",
       "    </tr>\n",
       "    <tr>\n",
       "      <th>2</th>\n",
       "      <td>-232.220694</td>\n",
       "      <td>-232.220694</td>\n",
       "    </tr>\n",
       "    <tr>\n",
       "      <th>3</th>\n",
       "      <td>322.650042</td>\n",
       "      <td>322.650042</td>\n",
       "    </tr>\n",
       "    <tr>\n",
       "      <th>4</th>\n",
       "      <td>215.356558</td>\n",
       "      <td>215.356558</td>\n",
       "    </tr>\n",
       "    <tr>\n",
       "      <th>...</th>\n",
       "      <td>...</td>\n",
       "      <td>...</td>\n",
       "    </tr>\n",
       "    <tr>\n",
       "      <th>2995</th>\n",
       "      <td>-420.497107</td>\n",
       "      <td>-420.497107</td>\n",
       "    </tr>\n",
       "    <tr>\n",
       "      <th>2996</th>\n",
       "      <td>-389.274237</td>\n",
       "      <td>-389.274237</td>\n",
       "    </tr>\n",
       "    <tr>\n",
       "      <th>2997</th>\n",
       "      <td>449.584671</td>\n",
       "      <td>449.584671</td>\n",
       "    </tr>\n",
       "    <tr>\n",
       "      <th>2998</th>\n",
       "      <td>454.111765</td>\n",
       "      <td>454.111765</td>\n",
       "    </tr>\n",
       "    <tr>\n",
       "      <th>2999</th>\n",
       "      <td>447.538028</td>\n",
       "      <td>447.538028</td>\n",
       "    </tr>\n",
       "  </tbody>\n",
       "</table>\n",
       "<p>3000 rows × 2 columns</p>\n",
       "</div>"
      ],
      "text/plain": [
       "          Actual   Predicted\n",
       "0    -159.738253 -159.738253\n",
       "1     113.324462  113.324462\n",
       "2    -232.220694 -232.220694\n",
       "3     322.650042  322.650042\n",
       "4     215.356558  215.356558\n",
       "...          ...         ...\n",
       "2995 -420.497107 -420.497107\n",
       "2996 -389.274237 -389.274237\n",
       "2997  449.584671  449.584671\n",
       "2998  454.111765  454.111765\n",
       "2999  447.538028  447.538028\n",
       "\n",
       "[3000 rows x 2 columns]"
      ]
     },
     "execution_count": 49,
     "metadata": {},
     "output_type": "execute_result"
    }
   ],
   "source": [
    "pd.DataFrame({'Actual': test_data.target, 'Predicted': test_predictions})"
   ]
  },
  {
   "cell_type": "code",
   "execution_count": 50,
   "metadata": {},
   "outputs": [
    {
     "data": {
      "text/plain": [
       "1.0"
      ]
     },
     "execution_count": 50,
     "metadata": {},
     "output_type": "execute_result"
    }
   ],
   "source": [
    "reg.score(train_data[cols],train_data.target)"
   ]
  },
  {
   "cell_type": "code",
   "execution_count": 51,
   "metadata": {},
   "outputs": [],
   "source": [
    "train_accuracy= reg.score(train_data[cols],train_data.target)\n",
    "test_accuracy=reg.score(test_data[cols],test_data.target)"
   ]
  },
  {
   "cell_type": "code",
   "execution_count": 52,
   "metadata": {},
   "outputs": [
    {
     "data": {
      "text/plain": [
       "1.0"
      ]
     },
     "execution_count": 52,
     "metadata": {},
     "output_type": "execute_result"
    }
   ],
   "source": [
    "test_accuracy"
   ]
  },
  {
   "cell_type": "code",
   "execution_count": 53,
   "metadata": {},
   "outputs": [],
   "source": [
    "def onefold(fold,train_data, test_data,cols,depth=5):\n",
    "    lm = linear_model.LinearRegression()\n",
    "    reg=lm.fit(train_data[cols],train_data.target)\n",
    "    train_predictions=reg.predict(train_data[cols])\n",
    "    test_predictions=reg.predict(test_data[cols])\n",
    "    train_accuracy= reg.score(train_data[cols],train_data.target)\n",
    "    test_accuracy=reg.score(test_data[cols],test_data.target)\n",
    "    return np.array([fold,train_accuracy,test_accuracy])   "
   ]
  },
  {
   "cell_type": "code",
   "execution_count": 54,
   "metadata": {},
   "outputs": [],
   "source": [
    "train_cols=list(data.columns[:-2])\n",
    "result=np.zeros((nfolds,3))\n",
    "\n",
    "for fold in range(0,nfolds):\n",
    "    train_data=data[data.kfold!=fold].copy().reset_index(drop=True)\n",
    "    test_data=data[data.kfold==fold].copy().reset_index(drop=True)\n",
    "    result[fold,:]=onefold(fold,train_data,test_data,cols=train_cols,depth=5)        "
   ]
  },
  {
   "cell_type": "code",
   "execution_count": 55,
   "metadata": {},
   "outputs": [
    {
     "data": {
      "text/plain": [
       "array([[0., 1., 1.],\n",
       "       [1., 1., 1.],\n",
       "       [2., 1., 1.],\n",
       "       [3., 1., 1.],\n",
       "       [4., 1., 1.]])"
      ]
     },
     "execution_count": 55,
     "metadata": {},
     "output_type": "execute_result"
    }
   ],
   "source": [
    "result"
   ]
  },
  {
   "cell_type": "markdown",
   "metadata": {},
   "source": [
    "plot!"
   ]
  },
  {
   "cell_type": "code",
   "execution_count": 56,
   "metadata": {},
   "outputs": [
    {
     "data": {
      "image/png": "[encoded data removed]",
      "text/plain": [
       "<Figure size 432x288 with 1 Axes>"
      ]
     },
     "metadata": {
      "needs_background": "light"
     },
     "output_type": "display_data"
    }
   ],
   "source": [
    "plt.plot(result[:,0],result[:,1],label='train_accuracy')\n",
    "plt.plot(result[:,0],result[:,2],label='test_accuracy')\n",
    "plt.plot(result[:,0],nfolds*[result[:,1].mean()],'r--', label='train_accuracy_mean')\n",
    "plt.plot(result[:,0],nfolds*[result[:,2].mean()],'b--', label='test_accuracy_mean')\n",
    "plt.xlabel(\"fold\")\n",
    "plt.ylabel(\"accuracy\")\n",
    "plt.legend()\n",
    "plt.show()"
   ]
  },
  {
   "cell_type": "markdown",
   "metadata": {},
   "source": [
    "Linear regression fits the model well."
   ]
  }
 ],
 "metadata": {
  "kernelspec": {
   "display_name": "Python 3",
   "language": "python",
   "name": "python3"
  },
  "language_info": {
   "codemirror_mode": {
    "name": "ipython",
    "version": 3
   },
   "file_extension": ".py",
   "mimetype": "text/x-python",
   "name": "python",
   "nbconvert_exporter": "python",
   "pygments_lexer": "ipython3",
   "version": "3.7.9"
  }
 },
 "nbformat": 4,
 "nbformat_minor": 4
}
